{
 "cells": [
  {
   "cell_type": "markdown",
   "metadata": {},
   "source": [
    "# Pneumonia Detection"
   ]
  },
  {
   "cell_type": "markdown",
   "metadata": {},
   "source": [
    "The dataset used in this notebook can be found here: https://www.kaggle.com/paultimothymooney/chest-xray-pneumonia"
   ]
  },
  {
   "cell_type": "markdown",
   "metadata": {},
   "source": [
    "## Data Preprocessing"
   ]
  },
  {
   "cell_type": "markdown",
   "metadata": {},
   "source": [
    "First all the necessary libraries will be imported."
   ]
  },
  {
   "cell_type": "code",
   "execution_count": 2,
   "metadata": {},
   "outputs": [],
   "source": [
    "import numpy as np\n",
    "import pandas as pd\n",
    "import matplotlib.pyplot as plt\n",
    "import math\n",
    "import seaborn as sns\n",
    "import os\n",
    "from sklearn.metrics import accuracy_score, confusion_matrix, f1_score \n",
    "import time\n",
    "import torch\n",
    "import torch.nn.functional as F\n",
    "from torch import nn\n",
    "from torchvision import datasets, transforms, models\n",
    "import torchvision"
   ]
  },
  {
   "cell_type": "markdown",
   "metadata": {},
   "source": [
    "The random seeds will be set."
   ]
  },
  {
   "cell_type": "code",
   "execution_count": 2,
   "metadata": {},
   "outputs": [
    {
     "data": {
      "text/plain": [
       "<torch._C.Generator at 0x7f1dd5d413b0>"
      ]
     },
     "execution_count": 2,
     "metadata": {},
     "output_type": "execute_result"
    }
   ],
   "source": [
    "np.random.seed(42)\n",
    "torch.manual_seed(42)"
   ]
  },
  {
   "cell_type": "markdown",
   "metadata": {},
   "source": [
    "The files in the validation folder were added to the training folder. Since there were only 16 images in the validation folder it might be a better idea to create a larger validation set from the training set. It should be noted that a similar method could be used to split the test set instead."
   ]
  },
  {
   "cell_type": "code",
   "execution_count": 3,
   "metadata": {},
   "outputs": [
    {
     "name": "stdout",
     "output_type": "stream",
     "text": [
      "['test', 'train']\n"
     ]
    }
   ],
   "source": [
    "print(os.listdir(\"chest_xray/\"))"
   ]
  },
  {
   "cell_type": "code",
   "execution_count": 4,
   "metadata": {},
   "outputs": [],
   "source": [
    "data_dir = \"chest_xray/\"\n",
    "TRAIN = \"train\"\n",
    "TEST = \"test\"\n",
    "batch_size = 128"
   ]
  },
  {
   "cell_type": "code",
   "execution_count": 5,
   "metadata": {},
   "outputs": [
    {
     "name": "stdout",
     "output_type": "stream",
     "text": [
      "Number of normal cases: 1349\n",
      "Number of pnuemonia cases: 3883\n",
      "Total number of data points in the trainind data set: 5232\n"
     ]
    }
   ],
   "source": [
    "normal_dir = data_dir + TRAIN + \"/NORMAL/\"\n",
    "pnuemonia_directory = data_dir + TRAIN + \"/PNEUMONIA/\"\n",
    "n_list = len(os.listdir(normal_dir))\n",
    "p_list = len(os.listdir(pnuemonia_directory))\n",
    "total_cases = n_list+p_list\n",
    "print(\"Number of normal cases: \" + str(n_list))\n",
    "print(\"Number of pnuemonia cases: \" + str(p_list))\n",
    "print(\"Total number of data points in the trainind data set: \" + str(total_cases))"
   ]
  },
  {
   "cell_type": "markdown",
   "metadata": {},
   "source": [
    "The following function will be used to preprocess the data."
   ]
  },
  {
   "cell_type": "code",
   "execution_count": 6,
   "metadata": {},
   "outputs": [],
   "source": [
    "transform = transforms.Compose([\n",
    "    transforms.Resize(256),\n",
    "    transforms.CenterCrop(224),\n",
    "    transforms.ToTensor(),\n",
    "    transforms.Normalize([0.485, 0.456, 0.406], [0.229, 0.224, 0.225]),\n",
    "])"
   ]
  },
  {
   "cell_type": "markdown",
   "metadata": {},
   "source": [
    "SubsetRandomSampler will be used to split the training set. First, the indices of the images from the training set will be shuffled and split into the train_indices and valid_indices variables. The validation_split variable specifies the percentage of the images in the train folder that will be in the final training set. "
   ]
  },
  {
   "cell_type": "code",
   "execution_count": 7,
   "metadata": {},
   "outputs": [],
   "source": [
    "# Define the image folder for each of the data set types\n",
    "trainset = torchvision.datasets.ImageFolder(\n",
    "    root=data_dir + TRAIN,\n",
    "    transform=transform\n",
    ")\n",
    "testset = torchvision.datasets.ImageFolder(\n",
    "    root=data_dir  + TEST,\n",
    "    transform=transform\n",
    ")\n",
    "\n",
    "\n",
    "validation_split = 0.9\n",
    "indices = list(range(total_cases))\n",
    "split = int(np.floor(validation_split * total_cases))\n",
    "np.random.seed(42)\n",
    "np.random.shuffle(indices)\n",
    "train_indices, valid_indices = indices[:split], indices[split:] \n",
    "train_sampler = torch.utils.data.SubsetRandomSampler(train_indices)\n",
    "valid_sampler = torch.utils.data.SubsetRandomSampler(valid_indices)\n",
    "\n",
    "train_dataloader = torch.utils.data.DataLoader(trainset, batch_size=batch_size, sampler=train_sampler)\n",
    "valid_dataloader = torch.utils.data.DataLoader(trainset, batch_size=batch_size, sampler=valid_sampler)\n",
    "test_dataloader = torch.utils.data.DataLoader(testset, shuffle=False)"
   ]
  },
  {
   "cell_type": "markdown",
   "metadata": {},
   "source": [
    "## Model training and evaluation"
   ]
  },
  {
   "cell_type": "markdown",
   "metadata": {},
   "source": [
    "Transfer learning will be used to train the VGG16 model on the new data set (the weights of the convolutional layer will be frozen however the final layer of the VGG16 model needs to be changed.)"
   ]
  },
  {
   "cell_type": "code",
   "execution_count": 3,
   "metadata": {},
   "outputs": [],
   "source": [
    "# It may take a few seconds to load the vgg_model\n",
    "vgg_model = models.vgg16(pretrained=True)"
   ]
  },
  {
   "cell_type": "code",
   "execution_count": 16,
   "metadata": {},
   "outputs": [
    {
     "name": "stdout",
     "output_type": "stream",
     "text": [
      "VGG(\n",
      "  (features): Sequential(\n",
      "    (0): Conv2d(3, 64, kernel_size=(3, 3), stride=(1, 1), padding=(1, 1))\n",
      "    (1): ReLU(inplace=True)\n",
      "    (2): Conv2d(64, 64, kernel_size=(3, 3), stride=(1, 1), padding=(1, 1))\n",
      "    (3): ReLU(inplace=True)\n",
      "    (4): MaxPool2d(kernel_size=2, stride=2, padding=0, dilation=1, ceil_mode=False)\n",
      "    (5): Conv2d(64, 128, kernel_size=(3, 3), stride=(1, 1), padding=(1, 1))\n",
      "    (6): ReLU(inplace=True)\n",
      "    (7): Conv2d(128, 128, kernel_size=(3, 3), stride=(1, 1), padding=(1, 1))\n",
      "    (8): ReLU(inplace=True)\n",
      "    (9): MaxPool2d(kernel_size=2, stride=2, padding=0, dilation=1, ceil_mode=False)\n",
      "    (10): Conv2d(128, 256, kernel_size=(3, 3), stride=(1, 1), padding=(1, 1))\n",
      "    (11): ReLU(inplace=True)\n",
      "    (12): Conv2d(256, 256, kernel_size=(3, 3), stride=(1, 1), padding=(1, 1))\n",
      "    (13): ReLU(inplace=True)\n",
      "    (14): Conv2d(256, 256, kernel_size=(3, 3), stride=(1, 1), padding=(1, 1))\n",
      "    (15): ReLU(inplace=True)\n",
      "    (16): MaxPool2d(kernel_size=2, stride=2, padding=0, dilation=1, ceil_mode=False)\n",
      "    (17): Conv2d(256, 512, kernel_size=(3, 3), stride=(1, 1), padding=(1, 1))\n",
      "    (18): ReLU(inplace=True)\n",
      "    (19): Conv2d(512, 512, kernel_size=(3, 3), stride=(1, 1), padding=(1, 1))\n",
      "    (20): ReLU(inplace=True)\n",
      "    (21): Conv2d(512, 512, kernel_size=(3, 3), stride=(1, 1), padding=(1, 1))\n",
      "    (22): ReLU(inplace=True)\n",
      "    (23): MaxPool2d(kernel_size=2, stride=2, padding=0, dilation=1, ceil_mode=False)\n",
      "    (24): Conv2d(512, 512, kernel_size=(3, 3), stride=(1, 1), padding=(1, 1))\n",
      "    (25): ReLU(inplace=True)\n",
      "    (26): Conv2d(512, 512, kernel_size=(3, 3), stride=(1, 1), padding=(1, 1))\n",
      "    (27): ReLU(inplace=True)\n",
      "    (28): Conv2d(512, 512, kernel_size=(3, 3), stride=(1, 1), padding=(1, 1))\n",
      "    (29): ReLU(inplace=True)\n",
      "    (30): MaxPool2d(kernel_size=2, stride=2, padding=0, dilation=1, ceil_mode=False)\n",
      "  )\n",
      "  (avgpool): AdaptiveAvgPool2d(output_size=(7, 7))\n",
      "  (classifier): Sequential(\n",
      "    (0): Linear(in_features=25088, out_features=4096, bias=True)\n",
      "    (1): ReLU(inplace=True)\n",
      "    (2): Dropout(p=0.5, inplace=False)\n",
      "    (3): Linear(in_features=4096, out_features=4096, bias=True)\n",
      "    (4): ReLU(inplace=True)\n",
      "    (5): Dropout(p=0.5, inplace=False)\n",
      "    (6): Linear(in_features=4096, out_features=1000, bias=True)\n",
      "  )\n",
      ")\n"
     ]
    }
   ],
   "source": [
    "print(vgg_model)"
   ]
  },
  {
   "cell_type": "code",
   "execution_count": 17,
   "metadata": {},
   "outputs": [],
   "source": [
    "# The weights of the convolutional layers will now be frozen.\n",
    "for param in vgg_model.features.parameters():\n",
    "    param.requires_grad = False"
   ]
  },
  {
   "cell_type": "code",
   "execution_count": 18,
   "metadata": {},
   "outputs": [
    {
     "name": "stdout",
     "output_type": "stream",
     "text": [
      "2\n"
     ]
    }
   ],
   "source": [
    "# The final fully connected layer will be replaced.\n",
    "n_inputs = vgg_model.classifier[6].in_features\n",
    "last_layer = nn.Linear(n_inputs, 2)\n",
    "vgg_model.classifier[6] = last_layer\n",
    "print(vgg_model.classifier[6].out_features)"
   ]
  },
  {
   "cell_type": "code",
   "execution_count": 19,
   "metadata": {},
   "outputs": [
    {
     "data": {
      "text/plain": [
       "<torch.utils.data.dataloader.DataLoader at 0x7f1e6968c9d0>"
      ]
     },
     "execution_count": 19,
     "metadata": {},
     "output_type": "execute_result"
    }
   ],
   "source": [
    "train_dataloader"
   ]
  },
  {
   "cell_type": "markdown",
   "metadata": {},
   "source": [
    "Since the dataset is imbalanced, the f1 score may be a better metric for model evaluation."
   ]
  },
  {
   "cell_type": "code",
   "execution_count": 20,
   "metadata": {},
   "outputs": [
    {
     "name": "stdout",
     "output_type": "stream",
     "text": [
      "epoch : 1\n",
      "training loss: 0.0014, acc 0.9233, f1 score 0.9482\n",
      "validation loss: 0.0009, validation acc 0.9618, f1 score 0.9752\n",
      "Elapsed time: 3320.880098104477 seconds\n",
      "epoch : 2\n",
      "training loss: 0.0005, acc 0.9800, f1 score 0.9865\n",
      "validation loss: 0.0009, validation acc 0.9656, f1 score 0.9777\n",
      "Elapsed time: 3358.5404658317566 seconds\n",
      "epoch : 3\n",
      "training loss: 0.0003, acc 0.9853, f1 score 0.9901\n",
      "validation loss: 0.0007, validation acc 0.9695, f1 score 0.9801\n",
      "Elapsed time: 3378.9637293815613 seconds\n",
      "epoch : 4\n",
      "training loss: 0.0002, acc 0.9917, f1 score 0.9944\n",
      "validation loss: 0.0007, validation acc 0.9771, f1 score 0.9849\n",
      "Elapsed time: 3372.2358903884888 seconds\n",
      "epoch : 5\n",
      "training loss: 0.0001, acc 0.9953, f1 score 0.9968\n",
      "validation loss: 0.0011, validation acc 0.9695, f1 score 0.9800\n",
      "Elapsed time: 3381.3578934669495 seconds\n"
     ]
    }
   ],
   "source": [
    "# Now the model will be trained for 5 epochs.\n",
    "criterion = nn.CrossEntropyLoss()\n",
    "optimizer = torch.optim.Adam(vgg_model.parameters(), lr = 0.0001)\n",
    "epochs = 5 \n",
    "running_loss_history = []\n",
    "running_corrects_history = []\n",
    "runnning_f1_history = []\n",
    "val_running_loss_history = []\n",
    "val_running_corrects_history = []\n",
    "val_running_f1_history = []\n",
    "\n",
    "for e in range(epochs):\n",
    "    start_time = time.time()\n",
    "    running_loss = 0.0\n",
    "    running_corrects = 0.0\n",
    "    target_true = 0.0\n",
    "    predicted_true = 0.0\n",
    "    correct_true = 0.0\n",
    "    epoch_f1 = 0.0\n",
    "    val_running_loss = 0.0\n",
    "    val_running_corrects = 0.0\n",
    "    val_target_true = 0.0\n",
    "    val_predicted_true = 0.0\n",
    "    val_correct_true = 0.0\n",
    "    val_running_f1 = 0.0\n",
    "    for inputs, labels in train_dataloader:\n",
    "        outputs = vgg_model(inputs)\n",
    "        loss = criterion(outputs, labels)\n",
    "        \n",
    "        optimizer.zero_grad()\n",
    "        loss.backward()\n",
    "        optimizer.step()\n",
    "        _, preds = torch.max(outputs, 1)\n",
    "        running_loss += loss.item()\n",
    "        running_corrects += torch.sum(preds == labels.data)\n",
    "        target_true += torch.sum(labels == 1).float()\n",
    "        predicted_true += torch.sum(preds == 1).float()\n",
    "        correct_true += torch.sum((labels == 1) * (preds == 1)).float()\n",
    "    else:\n",
    "        with torch.no_grad():\n",
    "            for val_inputs, val_labels in valid_dataloader:\n",
    "                val_outputs = vgg_model(val_inputs)\n",
    "                val_loss = criterion(val_outputs, val_labels)\n",
    "                \n",
    "                _, val_preds = torch.max(val_outputs, 1)\n",
    "                val_running_loss += val_loss.item()\n",
    "                val_running_corrects += torch.sum(val_preds == val_labels.data)\n",
    "                val_target_true += torch.sum(val_labels == 1).float()\n",
    "                val_predicted_true += torch.sum(val_preds == 1).float()\n",
    "                val_correct_true += torch.sum((val_labels == 1) * (val_preds == 1)).float()\n",
    "        \n",
    "        epoch_loss = running_loss/len(train_indices)\n",
    "        epoch_acc = running_corrects.float()/ len(train_indices)\n",
    "        recall = correct_true / target_true\n",
    "        precision = correct_true / predicted_true\n",
    "        epoch_f1 = 2 * precision * recall / (precision + recall)\n",
    "        running_loss_history.append(epoch_loss)\n",
    "        running_corrects_history.append(epoch_acc)\n",
    "        runnning_f1_history.append(epoch_f1)\n",
    "        \n",
    "        val_epoch_loss = val_running_loss/len(valid_indices)\n",
    "        val_epoch_acc = val_running_corrects.float()/ len(valid_indices)\n",
    "        val_recall = val_correct_true / val_target_true\n",
    "        val_precision = val_correct_true / val_predicted_true\n",
    "        val_running_f1 = 2 * val_precision * val_recall / (val_precision + val_recall)\n",
    "        val_running_loss_history.append(val_epoch_loss)\n",
    "        val_running_corrects_history.append(val_epoch_acc)\n",
    "        val_running_f1_history.append(val_running_f1)\n",
    "        \n",
    "        print('epoch :', (e+1))\n",
    "        print('training loss: {:.4f}, acc {:.4f}, f1 score {:.4f}'.format(epoch_loss, epoch_acc.item(), epoch_f1.item()))\n",
    "        print('validation loss: {:.4f}, validation acc {:.4f}, f1 score {:.4f}'.format(val_epoch_loss, val_epoch_acc.item(), val_running_f1.item()))\n",
    "    end_time = time.time()\n",
    "    elapsed_time = end_time - start_time\n",
    "    print(\"Elapsed time: \" + str(elapsed_time) + \" seconds\")"
   ]
  },
  {
   "cell_type": "code",
   "execution_count": 21,
   "metadata": {},
   "outputs": [
    {
     "data": {
      "text/plain": [
       "<matplotlib.legend.Legend at 0x7f1dd596e590>"
      ]
     },
     "execution_count": 21,
     "metadata": {},
     "output_type": "execute_result"
    },
    {
     "data": {
      "image/png": "[encoded data removed]",
      "text/plain": [
       "<Figure size 432x288 with 1 Axes>"
      ]
     },
     "metadata": {
      "needs_background": "light"
     },
     "output_type": "display_data"
    }
   ],
   "source": [
    "plt.plot(running_loss_history, label='training loss')\n",
    "plt.plot(val_running_loss_history, label='validation loss')\n",
    "plt.legend()"
   ]
  },
  {
   "cell_type": "code",
   "execution_count": 22,
   "metadata": {},
   "outputs": [
    {
     "data": {
      "text/plain": [
       "<matplotlib.legend.Legend at 0x7f1e2e451710>"
      ]
     },
     "execution_count": 22,
     "metadata": {},
     "output_type": "execute_result"
    },
    {
     "data": {
      "image/png": "[encoded data removed]",
      "text/plain": [
       "<Figure size 432x288 with 1 Axes>"
      ]
     },
     "metadata": {
      "needs_background": "light"
     },
     "output_type": "display_data"
    }
   ],
   "source": [
    "plt.plot(running_corrects_history, label='training accuracy')\n",
    "plt.plot(val_running_corrects_history, label='validation accuracy')\n",
    "plt.legend()"
   ]
  },
  {
   "cell_type": "code",
   "execution_count": 23,
   "metadata": {},
   "outputs": [
    {
     "data": {
      "text/plain": [
       "<matplotlib.legend.Legend at 0x7f1da7df7e10>"
      ]
     },
     "execution_count": 23,
     "metadata": {},
     "output_type": "execute_result"
    },
    {
     "data": {
      "image/png": "[encoded data removed]",
      "text/plain": [
       "<Figure size 432x288 with 1 Axes>"
      ]
     },
     "metadata": {
      "needs_background": "light"
     },
     "output_type": "display_data"
    }
   ],
   "source": [
    "plt.plot(runnning_f1_history, label='training f1 score')\n",
    "plt.plot(val_running_f1_history, label='validation f1 score')\n",
    "plt.legend()"
   ]
  },
  {
   "cell_type": "markdown",
   "metadata": {},
   "source": [
    "The model appears to overfit the dataset after 4 epochs however the model still performs well on the validation set (the validation accuracy is still 96.95% and the f1 score is 0.9800.)"
   ]
  },
  {
   "cell_type": "code",
   "execution_count": 36,
   "metadata": {},
   "outputs": [],
   "source": [
    "# The model can now be saved\n",
    "torch.save(vgg_model, \"vgg1.pth\")"
   ]
  },
  {
   "cell_type": "markdown",
   "metadata": {},
   "source": [
    "Now an unbiased estimate of the accuracy and f1 score on new data can be calculated using the test set."
   ]
  },
  {
   "cell_type": "code",
   "execution_count": 56,
   "metadata": {},
   "outputs": [
    {
     "name": "stdout",
     "output_type": "stream",
     "text": [
      "test loss: 0.0000, test acc 0.7692, f1 score 0.8435\n",
      "Elapsed time: 392.14331674575806 seconds\n"
     ]
    }
   ],
   "source": [
    "start_time = time.time()\n",
    "test_loss = 0.0\n",
    "test_corrects = 0.0\n",
    "test_target_true = 0.0\n",
    "test_predicted_true = 0.0\n",
    "test_correct_true = 0.0\n",
    "test_f1 = 0.0\n",
    "for test_inputs, test_labels in test_dataloader:\n",
    "    test_outputs = model(test_inputs)\n",
    "    test_loss = criterion(test_outputs, test_labels)\n",
    "    \n",
    "    _, test_preds = torch.max(test_outputs, 1)\n",
    "    test_corrects += torch.sum(test_preds == test_labels.data)\n",
    "    test_target_true += torch.sum(test_labels == 1).float()\n",
    "    test_predicted_true += torch.sum(test_preds == 1).float()\n",
    "    test_correct_true += torch.sum((test_labels == 1) * (test_preds == 1)).float()\n",
    "\n",
    "test_loss = test_loss/len(testset)\n",
    "test_acc = test_corrects/ len(testset)\n",
    "test_recall = test_correct_true / test_target_true\n",
    "test_precision = test_correct_true / test_predicted_true\n",
    "test_f1 = 2 * test_precision * test_recall / (test_precision + test_recall)\n",
    "print('test loss: {:.4f}, test acc {:.4f}, f1 score {:.4f}'.format(test_loss, test_acc, test_f1))\n",
    "end_time = time.time()\n",
    "elapsed_time = end_time - start_time\n",
    "print(\"Elapsed time: \" + str(elapsed_time) + \" seconds\")"
   ]
  },
  {
   "cell_type": "markdown",
   "metadata": {},
   "source": [
    "An unbiased estimation of accuracy on new data is 76.92% and an unbiased estimation of the f1 score is 0.8435."
   ]
  },
  {
   "cell_type": "code",
   "execution_count": null,
   "metadata": {},
   "outputs": [],
   "source": []
  }
 ],
 "metadata": {
  "environment": {
   "name": "pytorch-gpu.1-4.m54",
   "type": "gcloud",
   "uri": "gcr.io/deeplearning-platform-release/pytorch-gpu.1-4:m54"
  },
  "kernelspec": {
   "display_name": "Python 3",
   "language": "python",
   "name": "python3"
  },
  "language_info": {
   "codemirror_mode": {
    "name": "ipython",
    "version": 3
   },
   "file_extension": ".py",
   "mimetype": "text/x-python",
   "name": "python",
   "nbconvert_exporter": "python",
   "pygments_lexer": "ipython3",
   "version": "3.6.5"
  }
 },
 "nbformat": 4,
 "nbformat_minor": 4
}
